{
 "cells": [
  {
   "cell_type": "code",
   "execution_count": 4,
   "id": "1f9bae6a",
   "metadata": {},
   "outputs": [
    {
     "name": "stderr",
     "output_type": "stream",
     "text": [
      "WARNING: An illegal reflective access operation has occurred\n",
      "WARNING: Illegal reflective access by org.apache.spark.unsafe.Platform (file:/Users/xintongwu/miniforge3/lib/python3.9/site-packages/pyspark/jars/spark-unsafe_2.12-3.2.0.jar) to constructor java.nio.DirectByteBuffer(long,int)\n",
      "WARNING: Please consider reporting this to the maintainers of org.apache.spark.unsafe.Platform\n",
      "WARNING: Use --illegal-access=warn to enable warnings of further illegal reflective access operations\n",
      "WARNING: All illegal access operations will be denied in a future release\n",
      "Using Spark's default log4j profile: org/apache/spark/log4j-defaults.properties\n",
      "Setting default log level to \"WARN\".\n",
      "To adjust logging level use sc.setLogLevel(newLevel). For SparkR, use setLogLevel(newLevel).\n",
      "22/03/24 14:44:57 WARN NativeCodeLoader: Unable to load native-hadoop library for your platform... using builtin-java classes where applicable\n",
      "22/03/24 14:44:58 WARN Utils: Service 'SparkUI' could not bind on port 4040. Attempting port 4041.\n"
     ]
    }
   ],
   "source": [
    "import pyspark\n",
    "from pyspark.sql import SparkSession, SQLContext\n",
    "from pyspark.sql.functions import *\n",
    "\n",
    "appName = \"Final Project - Task 2\"\n",
    "master = \"local\"\n",
    "\n",
    "# Create Configuration object for Spark.\n",
    "conf = pyspark.SparkConf()\\\n",
    "    .set('spark.driver.host','127.0.0.1')\\\n",
    "    .setAppName(appName)\\\n",
    "    .setMaster(master)\n",
    "\n",
    "# Create Spark Context with the new configurations rather than rely on the default one\n",
    "sc = SparkContext.getOrCreate(conf=conf)\n",
    "\n",
    "# You need to create SQL Context to conduct some database operations like what we will see later.\n",
    "#sqlContext = SQLContext(sc)\n",
    "\n",
    "# If you have SQL context, you create the session from the Spark Context\n",
    "spark = SparkSession.builder.getOrCreate()"
   ]
  },
  {
   "cell_type": "code",
   "execution_count": 5,
   "id": "a584c4a7",
   "metadata": {},
   "outputs": [],
   "source": [
    "def read_db(db_name):\n",
    "    df = spark.read.format(\"jdbc\")\\\n",
    "    .option(\"url\", \"jdbc:postgresql://localhost:5432/postgres\")\\\n",
    "    .option(\"dbtable\", db_name)\\\n",
    "    .option(\"user\", \"jc\")\\\n",
    "    .option(\"password\", \"\")\\\n",
    "    .option(\"Driver\", \"org.postgresql.Driver\")\\\n",
    "    .load()\n",
    "    return df"
   ]
  },
  {
   "cell_type": "code",
   "execution_count": 7,
   "id": "356e8441",
   "metadata": {},
   "outputs": [],
   "source": [
    "def read_db(db_name):\n",
    "    df = spark.read.format(\"jdbc\")\\\n",
    "    .option(\"url\", \"jdbc:postgresql://localhost:5432/postgres\")\\\n",
    "    .option(\"dbtable\", db_name)\\\n",
    "    .option(\"user\", \"xintongwu\")\\\n",
    "    .option(\"password\", \"\")\\\n",
    "    .option(\"Driver\", \"org.postgresql.Driver\")\\\n",
    "    .load()\n",
    "    return df"
   ]
  },
  {
   "cell_type": "code",
   "execution_count": 8,
   "id": "554548a6",
   "metadata": {},
   "outputs": [],
   "source": [
    "player_dfs = {}\n",
    "years = ['2015', '2016', '2017', '2018', '2019', '2020', '2021', '2022']\n",
    "\n",
    "player_df = read_db(\"fifa.player_all\")\n",
    "for year in years:\n",
    "    player_dfs[year] = player_df[player_df['year'] == year]"
   ]
  },
  {
   "cell_type": "markdown",
   "id": "c7f8c168",
   "metadata": {},
   "source": [
    "## 1. List the x players who achieved average highest improvement across all skillsets."
   ]
  },
  {
   "cell_type": "code",
   "execution_count": 9,
   "id": "8ace58de",
   "metadata": {},
   "outputs": [],
   "source": [
    "skillsets = { \"pace\", \"shooting\", \"passing\", \"dribbling\", \"defending\", \"physic\", \"attacking_crossing\", \n",
    "             \"attacking_finishing\", \"attacking_heading_accuracy\", \"attacking_short_passing\", \"attacking_volleys\", \n",
    "             \"skill_dribbling\", \"skill_curve\", \"skill_fk_accuracy\", \"skill_long_passing\", \"skill_ball_control\", \n",
    "             \"movement_acceleration\", \"movement_sprint_speed\", \"movement_agility\", \"movement_reactions\", \n",
    "             \"movement_balance\", \"power_shot_power\", \"power_jumping\", \"power_stamina\", \"power_strength\", \n",
    "             \"power_long_shots\", \"mentality_aggression\", \"mentality_interceptions\", \"mentality_positioning\", \n",
    "             \"mentality_vision\", \"mentality_penalties\", \"mentality_composure\", \"defending_marking_awareness\", \n",
    "             \"defending_standing_tackle\", \"defending_sliding_tackle\", \"goalkeeping_diving\", \"goalkeeping_handling\", \n",
    "             \"goalkeeping_kicking\", \"goalkeeping_positioning\", \"goalkeeping_reflexes\", \"goalkeeping_speed\" \n",
    "            }\n",
    "\n",
    "def task_II_1(x, from_year='2015', to_year='2022'):\n",
    "    def map_improvement(row):\n",
    "        imp = 0\n",
    "        for col in skillsets:\n",
    "            target_col = 'target_' + col\n",
    "            if col in row and row[col] and target_col in row and row[target_col]:\n",
    "                imp += row[target_col] - row[col]\n",
    "        return (imp, (row['sofifa_id'], row['short_name']))\n",
    "    from_df = player_dfs[from_year]\n",
    "    to_df = player_dfs[to_year]\n",
    "    for col in skillsets:\n",
    "        to_df = to_df.withColumnRenamed(col, \"target_\" + col)\n",
    "    compare_df = from_df.join(to_df, on='sofifa_id', how='inner')\n",
    "    results = compare_df.rdd.map(map_improvement).sortByKey(ascending=False).take(x)\n",
    "    improvement, players = zip(*results)\n",
    "    return players, improvement"
   ]
  },
  {
   "cell_type": "code",
   "execution_count": 10,
   "id": "335fe134",
   "metadata": {},
   "outputs": [
    {
     "name": "stderr",
     "output_type": "stream",
     "text": [
      "/Users/xintongwu/miniforge3/lib/python3.9/site-packages/pyspark/python/lib/pyspark.zip/pyspark/shuffle.py:60: UserWarning: Please install psutil to have better support with spilling\n"
     ]
    },
    {
     "name": "stdout",
     "output_type": "stream",
     "text": [
      "Top 10 players achieved highest improvement from 2015 to 2022 are:\n",
      "K. Laimer (id:225375)\n",
      "S. Milinković-Savić (id:223848)\n",
      "M. Al Buraik (id:221370)\n",
      "D. Calvert-Lewin (id:221479)\n",
      "R. Andrich (id:212242)\n",
      "O. Watkins (id:221697)\n",
      "R. Steffen (id:210537)\n",
      "P. Ng (id:223905)\n",
      "R. Skov (id:215449)\n",
      "Alex Berenguer (id:225201)\n"
     ]
    },
    {
     "name": "stderr",
     "output_type": "stream",
     "text": [
      "\r",
      "                                                                                \r"
     ]
    }
   ],
   "source": [
    "# Example\n",
    "x = 10\n",
    "from_year, to_year = '2015', '2022'\n",
    "top_imp_players, _ = task_II_1(x, from_year, to_year)\n",
    "\n",
    "print(f\"Top {x} players achieved highest improvement from {from_year} to {to_year} are:\")\n",
    "for player in top_imp_players:\n",
    "    print(player[1], f\"(id:{player[0]})\")"
   ]
  },
  {
   "cell_type": "markdown",
   "id": "7264d334",
   "metadata": {},
   "source": [
    "## 2. What are the y clubs that have largest number of players with contracts ending in 2021?"
   ]
  },
  {
   "cell_type": "code",
   "execution_count": 8,
   "id": "a398a0d2",
   "metadata": {},
   "outputs": [],
   "source": [
    "def task_II_2(y, valid_until=\"2021\", at_year=\"2021\"):\n",
    "    df = player_dfs[at_year]\n",
    "    counts = df[df['club_contract_valid_until'] == valid_until].groupBy('club_team_id', 'club_name').count()\n",
    "    top_y = counts.sort('count', ascending=False).take(y)\n",
    "    return [club['club_name'] for club in top_y]"
   ]
  },
  {
   "cell_type": "code",
   "execution_count": 9,
   "id": "0c338e5a",
   "metadata": {},
   "outputs": [
    {
     "name": "stdout",
     "output_type": "stream",
     "text": [
      "In year 2018, the 5 clubs with largest number of players with contracts ending in 2021 are Spartak Moskva, VfL Wolfsburg, Sevilla FC, Newcastle United, Borussia Mönchengladbach\n"
     ]
    }
   ],
   "source": [
    "print(\"In year 2018, the 5 clubs with largest number of players with contracts ending in 2021 are\", \n",
    "      \", \".join(task_II_2(5, at_year='2018')))"
   ]
  },
  {
   "cell_type": "markdown",
   "id": "dd1529e1",
   "metadata": {},
   "source": [
    "## 3. List the z clubs with largest number of players in the dataset where z >= 5"
   ]
  },
  {
   "cell_type": "code",
   "execution_count": 10,
   "id": "2d1d3f79",
   "metadata": {},
   "outputs": [],
   "source": [
    "def task_II_3(z, year='2022'):\n",
    "    assert z >= 5, \"z must be at least 5\"\n",
    "    df = player_df if year is None else player_dfs[year]\n",
    "    sorted_counts = df.dropna(subset=['club_team_id']).groupBy('club_team_id', 'club_name').count().sort('count', ascending=False).collect()\n",
    "    if sorted_counts[-1]['count'] == sorted_counts[0]['count']:\n",
    "        print('All teams have the same number of players:', sorted_counts[-1]['count'])\n",
    "    teams = [team['club_name'] for team in sorted_counts[:min((z, len(sorted_counts)))]]\n",
    "    return teams\n",
    "\n",
    "def task_II_3_inclusive(z, year='2022'):\n",
    "    assert z >= 5, \"z must be at least 5\"\n",
    "    df = player_df if year is None else player_dfs[year]\n",
    "    sorted_counts = df.dropna(subset=['club_team_id']).groupBy('club_team_id', 'club_name').count().sort('count', ascending=False).collect()\n",
    "    if sorted_counts[-1]['count'] == sorted_counts[0]['count']:\n",
    "        print('All teams have the same number of players:', sorted_counts[-1]['count'])\n",
    "    teams, n = [], 0\n",
    "    while z - n > 0:\n",
    "        count = sorted_counts[n]['count']\n",
    "        while n < len(sorted_counts) and sorted_counts[n]['count'] >= count:\n",
    "            teams.append(sorted_counts[n]['club_name'])\n",
    "            n += 1\n",
    "    return teams"
   ]
  },
  {
   "cell_type": "code",
   "execution_count": 11,
   "id": "9f6039a6",
   "metadata": {},
   "outputs": [
    {
     "name": "stdout",
     "output_type": "stream",
     "text": [
      "In year 2022,\n",
      "\n",
      "Top 7 clubs with largest number of players are\n",
      "Levante Unión Deportiva, Arsenal, Wolverhampton Wanderers, Granada CF, Newcastle United, RCD Espanyol de Barcelona, Manchester United\n",
      "\n",
      "The clubs that have top 7 largest number of players include, including ties:\n",
      "Levante Unión Deportiva, Arsenal, Wolverhampton Wanderers, Granada CF, Newcastle United, RCD Espanyol de Barcelona, Manchester United, Villarreal CF, Chelsea, ESTAC Troyes, Burnley, Real Madrid CF, Borussia Mönchengladbach, RCD Mallorca, Brentford, Paris Saint-Germain, Southampton, Olympique de Marseille, FC Barcelona, CA Osasuna, Leicester City, Sevilla FC, Crystal Palace, Everton, Norwich City, Valencia CF, TSG Hoffenheim, Venezia FC, RC Celta de Vigo, West Ham United, Real Betis Balompié, Brighton & Hove Albion, Liverpool, Genoa, Tottenham Hotspur, VfB Stuttgart\n"
     ]
    }
   ],
   "source": [
    "print(\"In year 2022,\\n\")\n",
    "print(\"Top 7 clubs with largest number of players are\")\n",
    "print(\", \".join(task_II_3(7)))\n",
    "print()\n",
    "print(\"The clubs that have top 7 largest number of players include, including ties:\")\n",
    "print(\", \".join(task_II_3_inclusive(7)))"
   ]
  },
  {
   "cell_type": "markdown",
   "id": "fd93042b",
   "metadata": {},
   "source": [
    "## 4. What is the most frequent nation_position and team_position in the dataset? (list the most popular for each)"
   ]
  },
  {
   "cell_type": "code",
   "execution_count": 12,
   "id": "6b094c71",
   "metadata": {},
   "outputs": [],
   "source": [
    "def task_II_4(year=None, columns=['nation_position', 'club_position']):\n",
    "    def find_most_frequent(df, column):\n",
    "        counts = df.dropna(subset=[column]).groupBy(column).count()\n",
    "        top_count = counts.sort('count', ascending=False).take(1)[0]['count']\n",
    "        rows = counts[counts['count'] == top_count].collect()\n",
    "        top_rows = [row[column] for row in rows]\n",
    "        return top_rows\n",
    "    df = player_df if year is None else player_dfs[year]\n",
    "    top_results = {}\n",
    "    for col in columns:\n",
    "        top_results[col] = find_most_frequent(df, col)\n",
    "    return top_results"
   ]
  },
  {
   "cell_type": "code",
   "execution_count": 13,
   "id": "7bf1101f",
   "metadata": {},
   "outputs": [
    {
     "name": "stdout",
     "output_type": "stream",
     "text": [
      "Most frequent positions in the entire dataset:\n",
      "{'nation_position': ['SUB'], 'club_position': ['SUB']}\n",
      "Most frequent positions in year 2022:\n",
      "{'nation_position': ['SUB'], 'club_position': ['SUB']}\n"
     ]
    }
   ],
   "source": [
    "print(\"Most frequent positions in the entire dataset:\")\n",
    "print(task_II_4())\n",
    "print(\"Most frequent positions in year 2022:\")\n",
    "print(task_II_4(\"2022\"))"
   ]
  },
  {
   "cell_type": "markdown",
   "id": "dac1999b",
   "metadata": {},
   "source": [
    "## 5. What is the most popular nationality for the players in the dataset?"
   ]
  },
  {
   "cell_type": "code",
   "execution_count": 21,
   "id": "eb526d5f",
   "metadata": {},
   "outputs": [],
   "source": [
    "def task_II_5(year=None):\n",
    "    df = player_df if year is None else player_dfs[year]\n",
    "    counts = df.dropna(subset=['nationality_id']).groupBy('nationality_id', 'nationality_name').count()\n",
    "    top_count = counts.sort('count', ascending=False).take(1)[0]['count']\n",
    "    top_rows = counts[counts['count'] == top_count].collect()\n",
    "    top_nations = [row['nationality_name'] for row in top_rows]\n",
    "    return top_nations if len(top_nations) > 1 else top_nations[0]"
   ]
  },
  {
   "cell_type": "code",
   "execution_count": 22,
   "id": "a6c1d64b",
   "metadata": {},
   "outputs": [
    {
     "name": "stdout",
     "output_type": "stream",
     "text": [
      "The most popular player nationality in the dataset is England\n",
      "The most popular player nationality in year 2015 is England\n",
      "The most popular player nationality in year 2016 is England\n",
      "The most popular player nationality in year 2017 is England\n",
      "The most popular player nationality in year 2018 is England\n",
      "The most popular player nationality in year 2019 is England\n",
      "The most popular player nationality in year 2020 is England\n",
      "The most popular player nationality in year 2021 is England\n",
      "The most popular player nationality in year 2022 is England\n"
     ]
    }
   ],
   "source": [
    "print(\"The most popular player nationality in the dataset is\", task_II_5())\n",
    "\n",
    "for year in years:\n",
    "    print(\"The most popular player nationality in year\", year, \"is\", task_II_5(year))"
   ]
  },
  {
   "cell_type": "code",
   "execution_count": null,
   "id": "787f553f",
   "metadata": {},
   "outputs": [],
   "source": []
  }
 ],
 "metadata": {
  "kernelspec": {
   "display_name": "Python 3 (ipykernel)",
   "language": "python",
   "name": "python3"
  },
  "language_info": {
   "codemirror_mode": {
    "name": "ipython",
    "version": 3
   },
   "file_extension": ".py",
   "mimetype": "text/x-python",
   "name": "python",
   "nbconvert_exporter": "python",
   "pygments_lexer": "ipython3",
   "version": "3.9.7"
  }
 },
 "nbformat": 4,
 "nbformat_minor": 5
}
